{
 "cells": [
  {
   "cell_type": "code",
   "execution_count": 1,
   "id": "9660e5e8-a030-4684-9927-da5244f67947",
   "metadata": {},
   "outputs": [
    {
     "name": "stdout",
     "output_type": "stream",
     "text": [
      "    Time       PPG       ECG      resp\n",
      "0  0.000  0.410557  0.314453  0.717097\n",
      "1  0.008  0.400782  0.285156  0.720787\n",
      "2  0.016  0.391007  0.300781  0.723247\n",
      "3  0.024  0.382209  0.304688  0.726937\n",
      "4  0.032  0.372434  0.294922  0.730627\n"
     ]
    }
   ],
   "source": [
    "import pandas as pd\n",
    "\n",
    "df = pd.read_csv(\"Normal.csv\")  # change filename to test others\n",
    "print(df.head())\n"
   ]
  },
  {
   "cell_type": "code",
   "execution_count": null,
   "id": "736abb4a-47f9-43e4-a1c6-8ef50a6170f2",
   "metadata": {},
   "outputs": [],
   "source": []
  }
 ],
 "metadata": {
  "kernelspec": {
   "display_name": "Python 3 (ipykernel)",
   "language": "python",
   "name": "python3"
  },
  "language_info": {
   "codemirror_mode": {
    "name": "ipython",
    "version": 3
   },
   "file_extension": ".py",
   "mimetype": "text/x-python",
   "name": "python",
   "nbconvert_exporter": "python",
   "pygments_lexer": "ipython3",
   "version": "3.11.7"
  }
 },
 "nbformat": 4,
 "nbformat_minor": 5
}
