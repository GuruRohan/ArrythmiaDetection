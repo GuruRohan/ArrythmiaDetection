{
 "cells": [
  {
   "cell_type": "code",
   "execution_count": 5,
   "id": "9660e5e8-a030-4684-9927-da5244f67947",
   "metadata": {},
   "outputs": [],
   "source": [
    "import pandas as pd\n",
    "A_fib = pd.read_csv(\"A_fib.csv\")\n",
    "A_fib_tachy = pd.read_csv(\"A_fib_tachy.csv\")\n",
    "Ectopy1 = pd.read_csv(\"Ectopy1.csv\")\n",
    "Normal = pd.read_csv(\"Normal.csv\")\n",
    "brady = pd.read_csv(\"brady.csv\")\n",
    "tachy = pd.read_csv(\"tachy.csv\")\n"
   ]
  },
  {
   "cell_type": "code",
   "execution_count": 6,
   "id": "736abb4a-47f9-43e4-a1c6-8ef50a6170f2",
   "metadata": {},
   "outputs": [
    {
     "name": "stdout",
     "output_type": "stream",
     "text": [
      "(22506, 5)\n",
      "label\n",
      "A_fib          3751\n",
      "A_fib_tachy    3751\n",
      "Ectopy1        3751\n",
      "Normal         3751\n",
      "brady          3751\n",
      "tachy          3751\n",
      "Name: count, dtype: int64\n"
     ]
    }
   ],
   "source": [
    "A_fib['label'] = 'A_fib'\n",
    "A_fib_tachy['label'] = 'A_fib_tachy'\n",
    "Ectopy1['label'] = 'Ectopy1'\n",
    "Normal['label'] = 'Normal'\n",
    "brady['label'] = 'brady'\n",
    "tachy['label'] = 'tachy'\n",
    "df = pd.concat([A_fib, A_fib_tachy, Ectopy1, Normal, brady, tachy], ignore_index=True)\n",
    "print(df.shape)\n",
    "print(df['label'].value_counts())"
   ]
  },
  {
   "cell_type": "code",
   "execution_count": 7,
   "id": "79912a79-c82b-4f22-87df-d77a68ff66af",
   "metadata": {},
   "outputs": [
    {
     "data": {
      "text/html": [
       "<div>\n",
       "<style scoped>\n",
       "    .dataframe tbody tr th:only-of-type {\n",
       "        vertical-align: middle;\n",
       "    }\n",
       "\n",
       "    .dataframe tbody tr th {\n",
       "        vertical-align: top;\n",
       "    }\n",
       "\n",
       "    .dataframe thead th {\n",
       "        text-align: right;\n",
       "    }\n",
       "</style>\n",
       "<table border=\"1\" class=\"dataframe\">\n",
       "  <thead>\n",
       "    <tr style=\"text-align: right;\">\n",
       "      <th></th>\n",
       "      <th>Time</th>\n",
       "      <th>PPG</th>\n",
       "      <th>ECG</th>\n",
       "      <th>resp</th>\n",
       "      <th>label</th>\n",
       "    </tr>\n",
       "  </thead>\n",
       "  <tbody>\n",
       "    <tr>\n",
       "      <th>0</th>\n",
       "      <td>0.000</td>\n",
       "      <td>0.537634</td>\n",
       "      <td>0.425781</td>\n",
       "      <td>-0.029340</td>\n",
       "      <td>A_fib</td>\n",
       "    </tr>\n",
       "    <tr>\n",
       "      <th>1</th>\n",
       "      <td>0.008</td>\n",
       "      <td>0.534702</td>\n",
       "      <td>0.404297</td>\n",
       "      <td>-0.036675</td>\n",
       "      <td>A_fib</td>\n",
       "    </tr>\n",
       "    <tr>\n",
       "      <th>2</th>\n",
       "      <td>0.016</td>\n",
       "      <td>0.531769</td>\n",
       "      <td>0.400391</td>\n",
       "      <td>-0.044010</td>\n",
       "      <td>A_fib</td>\n",
       "    </tr>\n",
       "    <tr>\n",
       "      <th>3</th>\n",
       "      <td>0.024</td>\n",
       "      <td>0.528837</td>\n",
       "      <td>0.400391</td>\n",
       "      <td>-0.053790</td>\n",
       "      <td>A_fib</td>\n",
       "    </tr>\n",
       "    <tr>\n",
       "      <th>4</th>\n",
       "      <td>0.032</td>\n",
       "      <td>0.524927</td>\n",
       "      <td>0.419922</td>\n",
       "      <td>-0.061125</td>\n",
       "      <td>A_fib</td>\n",
       "    </tr>\n",
       "  </tbody>\n",
       "</table>\n",
       "</div>"
      ],
      "text/plain": [
       "    Time       PPG       ECG      resp  label\n",
       "0  0.000  0.537634  0.425781 -0.029340  A_fib\n",
       "1  0.008  0.534702  0.404297 -0.036675  A_fib\n",
       "2  0.016  0.531769  0.400391 -0.044010  A_fib\n",
       "3  0.024  0.528837  0.400391 -0.053790  A_fib\n",
       "4  0.032  0.524927  0.419922 -0.061125  A_fib"
      ]
     },
     "execution_count": 7,
     "metadata": {},
     "output_type": "execute_result"
    }
   ],
   "source": [
    "df.head()"
   ]
  },
  {
   "cell_type": "code",
   "execution_count": null,
   "id": "94990d83-244f-4612-8046-9f6f7a97be55",
   "metadata": {},
   "outputs": [],
   "source": [
    "df[df['label']=='"
   ]
  }
 ],
 "metadata": {
  "kernelspec": {
   "display_name": "Python 3 (ipykernel)",
   "language": "python",
   "name": "python3"
  },
  "language_info": {
   "codemirror_mode": {
    "name": "ipython",
    "version": 3
   },
   "file_extension": ".py",
   "mimetype": "text/x-python",
   "name": "python",
   "nbconvert_exporter": "python",
   "pygments_lexer": "ipython3",
   "version": "3.10.2"
  }
 },
 "nbformat": 4,
 "nbformat_minor": 5
}
